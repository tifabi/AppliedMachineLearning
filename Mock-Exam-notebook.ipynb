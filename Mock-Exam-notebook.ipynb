{
 "cells": [
  {
   "cell_type": "markdown",
   "metadata": {
    "toc": "true"
   },
   "source": [
    "<h1>Table of Contents<span class=\"tocSkip\"></span></h1>\n",
    "<div class=\"toc\" style=\"margin-top: 1em;\"><ul class=\"toc-item\"><li><span><a href=\"#Machine-Learning\" data-toc-modified-id=\"Machine-Learning-1\"><span class=\"toc-item-num\">1&nbsp;&nbsp;</span>Machine Learning</a></span><ul class=\"toc-item\"><li><span><a href=\"#Mock-Exam\" data-toc-modified-id=\"Mock-Exam-1.1\"><span class=\"toc-item-num\">1.1&nbsp;&nbsp;</span>Mock Exam</a></span><ul class=\"toc-item\"><li><span><a href=\"#Please-insert-your-contact-information-here\" data-toc-modified-id=\"Please-insert-your-contact-information-here-1.1.1\"><span class=\"toc-item-num\">1.1.1&nbsp;&nbsp;</span>Please insert your contact information here</a></span></li></ul></li></ul></li><li><span><a href=\"#Exam-questions-begins-here\" data-toc-modified-id=\"Exam-questions-begins-here-2\"><span class=\"toc-item-num\">2&nbsp;&nbsp;</span>Exam questions begins here</a></span><ul class=\"toc-item\"><li><span><a href=\"#Solve-for-X\" data-toc-modified-id=\"Solve-for-X-2.1\"><span class=\"toc-item-num\">2.1&nbsp;&nbsp;</span>Solve for X</a></span></li><li><span><a href=\"#farthest-number\" data-toc-modified-id=\"farthest-number-2.2\"><span class=\"toc-item-num\">2.2&nbsp;&nbsp;</span>farthest number</a></span></li><li><span><a href=\"#Jelly-Bean-Probability\" data-toc-modified-id=\"Jelly-Bean-Probability-2.3\"><span class=\"toc-item-num\">2.3&nbsp;&nbsp;</span>Jelly Bean Probability</a></span></li><li><span><a href=\"#WordCount\" data-toc-modified-id=\"WordCount-2.4\"><span class=\"toc-item-num\">2.4&nbsp;&nbsp;</span>WordCount</a></span></li></ul></li><li><span><a href=\"#END-of-Exam\" data-toc-modified-id=\"END-of-Exam-3\"><span class=\"toc-item-num\">3&nbsp;&nbsp;</span>END of Exam</a></span></li></ul></div>"
   ]
  },
  {
   "cell_type": "code",
   "execution_count": 1,
   "metadata": {
    "collapsed": true
   },
   "outputs": [],
   "source": [
    "import numpy as np\n",
    "from __future__ import division\n",
    "\n",
    "%reload_ext autoreload\n",
    "%autoreload 2\n"
   ]
  },
  {
   "cell_type": "markdown",
   "metadata": {},
   "source": [
    "#  Machine Learning \n",
    "## Mock Exam  \n",
    "\n",
    "\n",
    "Machine Learning \n",
    "\n",
    "\n",
    "\n",
    "### Please insert your contact information here\n",
    "__Insert you name here__           : Tiffany Fabianac\n",
    "__Insert you email here__          : tifabi@iu.edu   \n",
    "\n"
   ]
  },
  {
   "cell_type": "markdown",
   "metadata": {},
   "source": [
    "# Exam questions begins here"
   ]
  },
  {
   "cell_type": "markdown",
   "metadata": {},
   "source": [
    "## Solve for X"
   ]
  },
  {
   "cell_type": "code",
   "execution_count": 1,
   "metadata": {},
   "outputs": [
    {
     "name": "stdout",
     "output_type": "stream",
     "text": [
      "-4.0\n"
     ]
    }
   ],
   "source": [
    "#7x = -28\n",
    "x = -28/7\n",
    "print (x)"
   ]
  },
  {
   "cell_type": "markdown",
   "metadata": {},
   "source": [
    "## farthest number\n"
   ]
  },
  {
   "cell_type": "code",
   "execution_count": 3,
   "metadata": {},
   "outputs": [
    {
     "name": "stdout",
     "output_type": "stream",
     "text": [
      "11 -10\n",
      "6 -5\n",
      "1 0\n",
      "-4 5\n",
      "-9 10\n"
     ]
    }
   ],
   "source": [
    "i = [-10,-5,0,5,10]\n",
    "for x in i:\n",
    "    print (1-x, x)"
   ]
  },
  {
   "cell_type": "markdown",
   "metadata": {},
   "source": [
    "##  Jelly Bean Probability "
   ]
  },
  {
   "cell_type": "code",
   "execution_count": 6,
   "metadata": {},
   "outputs": [
    {
     "name": "stdout",
     "output_type": "stream",
     "text": [
      "3.14\n",
      "0.85\n"
     ]
    }
   ],
   "source": [
    "#please use the np.round() function to the required level of precision when providing numerical responses.  \n",
    "import numpy as np\n",
    "\n",
    "# for two decimal places; \n",
    "# change this to the desired precision as needed\n",
    "ans=3.145  #replace with your answer\n",
    "print(\"%.2f\"%np.round(ans, 2))\n",
    "#prints 3.14\n",
    "\n",
    "# neither red (5) nor purple (4)\n",
    "\n",
    "#p(red) = 5/60 p(purple)= 4/60 p(red | purple) = 5/50 * 4/60\n",
    "ans = (1-((5/60)+(4/60)))\n",
    "print(\"%.2f\"%np.round(ans, 2))"
   ]
  },
  {
   "cell_type": "markdown",
   "metadata": {},
   "source": [
    "## WordCount"
   ]
  },
  {
   "cell_type": "code",
   "execution_count": 12,
   "metadata": {},
   "outputs": [
    {
     "name": "stdout",
     "output_type": "stream",
     "text": [
      "defaultdict(<class 'int'>, {'I': 2, 'figured': 2, 'it': 2, 'out': 2, 'from': 1, 'black': 1, 'and': 2, 'white': 1, 'Seconds': 1, 'hours': 1, 'Maybe': 1, 'they': 1, 'had': 1, 'to': 1, 'take': 1, 'some': 1, 'time': 1})\n"
     ]
    }
   ],
   "source": [
    "\n",
    "ss = \"\"\"I figured it out I figured it out from black and white Seconds and hours Maybe they had to take some time\"\"\"\n",
    "\n",
    "words = ss.split()\n",
    "\n",
    "from collections import defaultdict \n",
    "d = defaultdict(int) \n",
    "for w in words: \n",
    "      d[w]+=w.count(w)\n",
    " \n",
    "print(d)\n",
    "\n",
    "\n",
    "# Sample output\n",
    "# defaultdict(<class 'int'>, {'I': 2, 'figured': 2, 'it': 2, .....})"
   ]
  },
  {
   "cell_type": "markdown",
   "metadata": {},
   "source": []
  },
  {
   "cell_type": "markdown",
   "metadata": {
    "collapsed": true
   },
   "source": [
    "# END of Exam"
   ]
  }
 ],
 "metadata": {
  "anaconda-cloud": {},
  "kernelspec": {
   "display_name": "Python 3",
   "language": "python",
   "name": "python3"
  },
  "language_info": {
   "codemirror_mode": {
    "name": "ipython",
    "version": 3
   },
   "file_extension": ".py",
   "mimetype": "text/x-python",
   "name": "python",
   "nbconvert_exporter": "python",
   "pygments_lexer": "ipython3",
   "version": "3.6.2"
  },
  "toc": {
   "nav_menu": {
    "height": "512px",
    "width": "252px"
   },
   "number_sections": true,
   "sideBar": false,
   "skip_h1_title": false,
   "toc_cell": true,
   "toc_position": {},
   "toc_section_display": "block",
   "toc_window_display": false
  }
 },
 "nbformat": 4,
 "nbformat_minor": 1
}
